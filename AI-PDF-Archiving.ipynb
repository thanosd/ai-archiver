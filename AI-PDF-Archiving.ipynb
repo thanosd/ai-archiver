{
 "cells": [
  {
   "cell_type": "code",
   "execution_count": null,
   "id": "c649b495-e6fc-4fd6-9225-d22b28152891",
   "metadata": {
    "ExecuteTime": {
     "end_time": "2023-09-24T05:28:46.445159Z",
     "start_time": "2023-09-24T05:28:45.092559Z"
    }
   },
   "outputs": [],
   "source": [
    "!pip uninstall -y \"unstructured[all-docs]\"\n",
    "!pip uninstall -y \"unstructured[pdf]\"\n",
    "!pip uninstall -y \"unstructured\""
   ]
  },
  {
   "cell_type": "code",
   "execution_count": null,
   "id": "a2529200-60b8-4433-b7ec-cd056a5632f0",
   "metadata": {
    "ExecuteTime": {
     "end_time": "2023-09-24T05:38:00.377029Z",
     "start_time": "2023-09-24T05:37:58.039395Z"
    },
    "jupyter": {
     "source_hidden": true
    },
    "scrolled": true
   },
   "outputs": [],
   "source": [
    "!pip install \"unstructured[pdf]\""
   ]
  },
  {
   "cell_type": "code",
   "execution_count": null,
   "id": "485f63f6-f454-4d1d-87b1-818dc0da6db2",
   "metadata": {
    "ExecuteTime": {
     "end_time": "2023-09-24T05:38:03.004533Z",
     "start_time": "2023-09-24T05:38:02.886291Z"
    },
    "scrolled": true
   },
   "outputs": [],
   "source": [
    "!brew install poppler tesseract"
   ]
  },
  {
   "cell_type": "code",
   "execution_count": null,
   "id": "0da05517-5987-40c6-89e3-54b974602a09",
   "metadata": {
    "ExecuteTime": {
     "end_time": "2023-09-24T05:28:29.844451Z",
     "start_time": "2023-09-24T05:28:29.837318Z"
    }
   },
   "outputs": [],
   "source": [
    "folder = \"/Users/thanos/Documents/Pending\"\n"
   ]
  },
  {
   "cell_type": "code",
   "execution_count": null,
   "id": "ea1a2fc1-b69b-4b70-b83d-b23fa93db7ce",
   "metadata": {
    "ExecuteTime": {
     "end_time": "2023-09-24T05:28:31.189099Z",
     "start_time": "2023-09-24T05:28:31.135373Z"
    }
   },
   "outputs": [],
   "source": [
    "import os\n",
    "pending_folder = os.listdir(folder)\n",
    "training_folder = \"/Users/thanos/Documents\"\n",
    "output_folder = \"data\"\n",
    "\n",
    "def get_text_for_file(file_name):\n",
    "    elements = partition(file_name)\n",
    "    return \"~~~\".join([e.text for e in elements])"
   ]
  },
  {
   "cell_type": "code",
   "execution_count": null,
   "id": "37cf2e85-31a3-4d09-8ba9-1b52ac2ecb11",
   "metadata": {
    "ExecuteTime": {
     "end_time": "2023-09-24T05:28:39.157375Z",
     "start_time": "2023-09-24T05:28:34.150814Z"
    }
   },
   "outputs": [],
   "source": [
    "# one_item = os.path.join(folder, pending_folder[0])\n",
    "from unstructured.partition.auto import partition\n",
    "\n",
    "def find_pdfs(dir_path):\n",
    "    pdf_files = []\n",
    "    # Traverse the directory tree and collect PDF files\n",
    "    for foldername, subfolders, filenames in os.walk(dir_path):\n",
    "        for filename in filenames:\n",
    "            if filename.endswith('.pdf') or filename.endswith('.PDF'):\n",
    "                pdf_files.append(os.path.join(foldername, filename))\n",
    "    return pdf_files\n",
    "\n",
    "all_files = find_pdfs(training_folder)\n",
    "\n",
    "for file_name in all_files:\n",
    "    print(file_name)\n",
    "    text = get_text_for_file(file_name)\n",
    "    if text is None:\n",
    "        print(f\"Failed to load {file_name}\")\n",
    "        continue\n",
    "    destination_filename = os.path.basename(file_name)\n",
    "    destination_path_pdf = os.path.join(output_folder, destination_filename)\n",
    "    destination_path_without_ext, _ = os.path.splitext(destination_path_pdf)\n",
    "    destination_path = f\"{destination_path_without_ext}.txt\"\n",
    "    with open(destination_path, \"w\") as destination_file:\n",
    "        destination_file.write(text)"
   ]
  },
  {
   "cell_type": "code",
   "execution_count": null,
   "id": "ff15f9b1-37f4-4c16-afe5-72935bf0f1c1",
   "metadata": {},
   "outputs": [],
   "source": []
  }
 ],
 "metadata": {
  "kernelspec": {
   "display_name": "Python 3 (ipykernel)",
   "language": "python",
   "name": "python3"
  },
  "language_info": {
   "codemirror_mode": {
    "name": "ipython",
    "version": 3
   },
   "file_extension": ".py",
   "mimetype": "text/x-python",
   "name": "python",
   "nbconvert_exporter": "python",
   "pygments_lexer": "ipython3",
   "version": "3.11.6"
  }
 },
 "nbformat": 4,
 "nbformat_minor": 5
}
